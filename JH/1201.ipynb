{
 "cells": [
  {
   "cell_type": "code",
   "execution_count": 115,
   "metadata": {
    "collapsed": true
   },
   "outputs": [],
   "source": [
    "import pandas as pd\n",
    "import numpy as np\n",
    "import matplotlib.pyplot as plt"
   ]
  },
  {
   "cell_type": "code",
   "execution_count": 116,
   "outputs": [],
   "source": [
    "df = pd.read_csv('data.txt', sep = ',')"
   ],
   "metadata": {
    "collapsed": false,
    "pycharm": {
     "name": "#%%\n"
    }
   }
  },
  {
   "cell_type": "code",
   "execution_count": 117,
   "outputs": [
    {
     "data": {
      "text/plain": "(8416, 23)"
     },
     "execution_count": 117,
     "metadata": {},
     "output_type": "execute_result"
    }
   ],
   "source": [
    "df.shape"
   ],
   "metadata": {
    "collapsed": false,
    "pycharm": {
     "name": "#%%\n"
    }
   }
  },
  {
   "cell_type": "code",
   "execution_count": 118,
   "outputs": [],
   "source": [
    "df.replace(['BELL','CONICAL','CONVEX','FLAT','KNOBBED','SUNKEN','FIBROUS','GROOVES','SCALY','SMOOTH','BROWN','BUFF','CINNAMON','GRAY','GREEN','PINK','PURPLE','RED','WHITE','YELLOW','BRUISES','NO','ALMOND','ANISE','CREOSOTE','FISHY','FOUL','MUSTY','NONE','PUNGENT','SPICY','ATTACHED','DESCENDING','FREE','NOTCHED','CLOSE','CROWDED','DISTANT','BROAD','NARROW','BLACK','CHOCOLATE','ORANGE','ENLARGING','TAPERING','BULBOUS','CLUB','CUP','EQUAL','RHIZOMORPHS','ROOTED','MISSING','SILKY','PARTIAL','UNIVERSAL','ONE','TWO','COBWEBBY','EVANESCENT','FLARING','LARGE','PENDANT','SHEATHING','ZONE','ABUNDANT','CLUSTERED','NUMEROUS','SCATTERED','SEVERAL','SOLITARY','GRASSES','LEAVES','MEADOWS','PATHS','URBAN','WASTE','WOODS','EDIBLE','POISONOUS'], ['b','c','x','f','k','s','f','g','y','s','n','b','c','g','r','p','u','e','w','y','t','f','a','l','c','y','f','m','n','p','s','a','d','f','n','c','w','d','b','n','k','h','o','e','t','b','c','u','e','z','r','?','k','p','u','o','t','c','e','f','l','p','s','z','a','c','n','s','v','y','g','l','m','p','u','w','d',0,1], inplace=True)"
   ],
   "metadata": {
    "collapsed": false,
    "pycharm": {
     "name": "#%%\n"
    }
   }
  },
  {
   "cell_type": "code",
   "execution_count": 119,
   "outputs": [
    {
     "name": "stdout",
     "output_type": "stream",
     "text": [
      "<class 'pandas.core.frame.DataFrame'>\n",
      "RangeIndex: 8416 entries, 0 to 8415\n",
      "Data columns (total 23 columns):\n",
      " #   Column                     Non-Null Count  Dtype \n",
      "---  ------                     --------------  ----- \n",
      " 0   classes                    8416 non-null   int64 \n",
      " 1   cap-shape                  8416 non-null   object\n",
      " 2   cap-surface                8416 non-null   object\n",
      " 3   cap-color                  8416 non-null   object\n",
      " 4   bruises?                   8416 non-null   object\n",
      " 5   odor                       8416 non-null   object\n",
      " 6   gill-attachment            8416 non-null   object\n",
      " 7   gill-spacing               8416 non-null   object\n",
      " 8   gill-size                  8416 non-null   object\n",
      " 9   gill-color                 8416 non-null   object\n",
      " 10  stalk-shape                8416 non-null   object\n",
      " 11  stalk-root                 8416 non-null   object\n",
      " 12  stallk-surface-above-ring  8416 non-null   object\n",
      " 13   stalk-surface-below-ring  8416 non-null   object\n",
      " 14  stalk-color-above-ring     8416 non-null   object\n",
      " 15  stalk-color-below-ring     8416 non-null   object\n",
      " 16  veil-type                  8416 non-null   object\n",
      " 17  veil-color                 8416 non-null   object\n",
      " 18  ring-number                8416 non-null   object\n",
      " 19  ring-type                  8416 non-null   object\n",
      " 20  spore-print-color          8416 non-null   object\n",
      " 21  population                 8416 non-null   object\n",
      " 22  habitat                    8416 non-null   object\n",
      "dtypes: int64(1), object(22)\n",
      "memory usage: 1.5+ MB\n"
     ]
    }
   ],
   "source": [
    "df.info()"
   ],
   "metadata": {
    "collapsed": false,
    "pycharm": {
     "name": "#%%\n"
    }
   }
  },
  {
   "cell_type": "code",
   "execution_count": 120,
   "outputs": [
    {
     "data": {
      "text/plain": "    classes cap-shape cap-surface cap-color bruises? odor gill-attachment  \\\n0         0         x           s         w        t    a               f   \n1         0         x           s         w        t    a               f   \n2         0         x           s         w        t    a               f   \n3         0         x           s         w        t    a               f   \n4         0         x           s         w        t    a               f   \n..      ...       ...         ...       ...      ...  ...             ...   \n95        0         f           f         y        t    l               f   \n96        0         b           s         w        t    a               f   \n97        0         b           s         w        t    a               f   \n98        0         b           s         w        t    a               f   \n99        0         b           s         w        t    a               f   \n\n   gill-spacing gill-size gill-color  ...  stalk-surface-below-ring  \\\n0             w         n          w  ...                         s   \n1             w         n          w  ...                         s   \n2             w         n          p  ...                         s   \n3             w         n          p  ...                         s   \n4             w         n          n  ...                         s   \n..          ...       ...        ...  ...                       ...   \n95            w         n          n  ...                         s   \n96            c         b          w  ...                         s   \n97            c         b          w  ...                         s   \n98            c         b          w  ...                         s   \n99            c         b          w  ...                         s   \n\n   stalk-color-above-ring stalk-color-below-ring veil-type veil-color  \\\n0                       w                      w         p          w   \n1                       w                      w         p          w   \n2                       w                      w         p          w   \n3                       w                      w         p          w   \n4                       w                      w         p          w   \n..                    ...                    ...       ...        ...   \n95                      w                      w         p          w   \n96                      w                      w         p          w   \n97                      w                      w         p          w   \n98                      w                      w         p          w   \n99                      w                      w         p          w   \n\n   ring-number ring-type spore-print-color population habitat  \n0            o         p                 u          v       d  \n1            o         p                 n          v       d  \n2            o         p                 u          v       d  \n3            o         p                 n          v       d  \n4            o         p                 u          v       d  \n..         ...       ...               ...        ...     ...  \n95           o         p                 n          v       d  \n96           o         p                 k          s       m  \n97           o         p                 k          s       g  \n98           o         p                 k          n       m  \n99           o         p                 k          n       g  \n\n[100 rows x 23 columns]",
      "text/html": "<div>\n<style scoped>\n    .dataframe tbody tr th:only-of-type {\n        vertical-align: middle;\n    }\n\n    .dataframe tbody tr th {\n        vertical-align: top;\n    }\n\n    .dataframe thead th {\n        text-align: right;\n    }\n</style>\n<table border=\"1\" class=\"dataframe\">\n  <thead>\n    <tr style=\"text-align: right;\">\n      <th></th>\n      <th>classes</th>\n      <th>cap-shape</th>\n      <th>cap-surface</th>\n      <th>cap-color</th>\n      <th>bruises?</th>\n      <th>odor</th>\n      <th>gill-attachment</th>\n      <th>gill-spacing</th>\n      <th>gill-size</th>\n      <th>gill-color</th>\n      <th>...</th>\n      <th>stalk-surface-below-ring</th>\n      <th>stalk-color-above-ring</th>\n      <th>stalk-color-below-ring</th>\n      <th>veil-type</th>\n      <th>veil-color</th>\n      <th>ring-number</th>\n      <th>ring-type</th>\n      <th>spore-print-color</th>\n      <th>population</th>\n      <th>habitat</th>\n    </tr>\n  </thead>\n  <tbody>\n    <tr>\n      <th>0</th>\n      <td>0</td>\n      <td>x</td>\n      <td>s</td>\n      <td>w</td>\n      <td>t</td>\n      <td>a</td>\n      <td>f</td>\n      <td>w</td>\n      <td>n</td>\n      <td>w</td>\n      <td>...</td>\n      <td>s</td>\n      <td>w</td>\n      <td>w</td>\n      <td>p</td>\n      <td>w</td>\n      <td>o</td>\n      <td>p</td>\n      <td>u</td>\n      <td>v</td>\n      <td>d</td>\n    </tr>\n    <tr>\n      <th>1</th>\n      <td>0</td>\n      <td>x</td>\n      <td>s</td>\n      <td>w</td>\n      <td>t</td>\n      <td>a</td>\n      <td>f</td>\n      <td>w</td>\n      <td>n</td>\n      <td>w</td>\n      <td>...</td>\n      <td>s</td>\n      <td>w</td>\n      <td>w</td>\n      <td>p</td>\n      <td>w</td>\n      <td>o</td>\n      <td>p</td>\n      <td>n</td>\n      <td>v</td>\n      <td>d</td>\n    </tr>\n    <tr>\n      <th>2</th>\n      <td>0</td>\n      <td>x</td>\n      <td>s</td>\n      <td>w</td>\n      <td>t</td>\n      <td>a</td>\n      <td>f</td>\n      <td>w</td>\n      <td>n</td>\n      <td>p</td>\n      <td>...</td>\n      <td>s</td>\n      <td>w</td>\n      <td>w</td>\n      <td>p</td>\n      <td>w</td>\n      <td>o</td>\n      <td>p</td>\n      <td>u</td>\n      <td>v</td>\n      <td>d</td>\n    </tr>\n    <tr>\n      <th>3</th>\n      <td>0</td>\n      <td>x</td>\n      <td>s</td>\n      <td>w</td>\n      <td>t</td>\n      <td>a</td>\n      <td>f</td>\n      <td>w</td>\n      <td>n</td>\n      <td>p</td>\n      <td>...</td>\n      <td>s</td>\n      <td>w</td>\n      <td>w</td>\n      <td>p</td>\n      <td>w</td>\n      <td>o</td>\n      <td>p</td>\n      <td>n</td>\n      <td>v</td>\n      <td>d</td>\n    </tr>\n    <tr>\n      <th>4</th>\n      <td>0</td>\n      <td>x</td>\n      <td>s</td>\n      <td>w</td>\n      <td>t</td>\n      <td>a</td>\n      <td>f</td>\n      <td>w</td>\n      <td>n</td>\n      <td>n</td>\n      <td>...</td>\n      <td>s</td>\n      <td>w</td>\n      <td>w</td>\n      <td>p</td>\n      <td>w</td>\n      <td>o</td>\n      <td>p</td>\n      <td>u</td>\n      <td>v</td>\n      <td>d</td>\n    </tr>\n    <tr>\n      <th>...</th>\n      <td>...</td>\n      <td>...</td>\n      <td>...</td>\n      <td>...</td>\n      <td>...</td>\n      <td>...</td>\n      <td>...</td>\n      <td>...</td>\n      <td>...</td>\n      <td>...</td>\n      <td>...</td>\n      <td>...</td>\n      <td>...</td>\n      <td>...</td>\n      <td>...</td>\n      <td>...</td>\n      <td>...</td>\n      <td>...</td>\n      <td>...</td>\n      <td>...</td>\n      <td>...</td>\n    </tr>\n    <tr>\n      <th>95</th>\n      <td>0</td>\n      <td>f</td>\n      <td>f</td>\n      <td>y</td>\n      <td>t</td>\n      <td>l</td>\n      <td>f</td>\n      <td>w</td>\n      <td>n</td>\n      <td>n</td>\n      <td>...</td>\n      <td>s</td>\n      <td>w</td>\n      <td>w</td>\n      <td>p</td>\n      <td>w</td>\n      <td>o</td>\n      <td>p</td>\n      <td>n</td>\n      <td>v</td>\n      <td>d</td>\n    </tr>\n    <tr>\n      <th>96</th>\n      <td>0</td>\n      <td>b</td>\n      <td>s</td>\n      <td>w</td>\n      <td>t</td>\n      <td>a</td>\n      <td>f</td>\n      <td>c</td>\n      <td>b</td>\n      <td>w</td>\n      <td>...</td>\n      <td>s</td>\n      <td>w</td>\n      <td>w</td>\n      <td>p</td>\n      <td>w</td>\n      <td>o</td>\n      <td>p</td>\n      <td>k</td>\n      <td>s</td>\n      <td>m</td>\n    </tr>\n    <tr>\n      <th>97</th>\n      <td>0</td>\n      <td>b</td>\n      <td>s</td>\n      <td>w</td>\n      <td>t</td>\n      <td>a</td>\n      <td>f</td>\n      <td>c</td>\n      <td>b</td>\n      <td>w</td>\n      <td>...</td>\n      <td>s</td>\n      <td>w</td>\n      <td>w</td>\n      <td>p</td>\n      <td>w</td>\n      <td>o</td>\n      <td>p</td>\n      <td>k</td>\n      <td>s</td>\n      <td>g</td>\n    </tr>\n    <tr>\n      <th>98</th>\n      <td>0</td>\n      <td>b</td>\n      <td>s</td>\n      <td>w</td>\n      <td>t</td>\n      <td>a</td>\n      <td>f</td>\n      <td>c</td>\n      <td>b</td>\n      <td>w</td>\n      <td>...</td>\n      <td>s</td>\n      <td>w</td>\n      <td>w</td>\n      <td>p</td>\n      <td>w</td>\n      <td>o</td>\n      <td>p</td>\n      <td>k</td>\n      <td>n</td>\n      <td>m</td>\n    </tr>\n    <tr>\n      <th>99</th>\n      <td>0</td>\n      <td>b</td>\n      <td>s</td>\n      <td>w</td>\n      <td>t</td>\n      <td>a</td>\n      <td>f</td>\n      <td>c</td>\n      <td>b</td>\n      <td>w</td>\n      <td>...</td>\n      <td>s</td>\n      <td>w</td>\n      <td>w</td>\n      <td>p</td>\n      <td>w</td>\n      <td>o</td>\n      <td>p</td>\n      <td>k</td>\n      <td>n</td>\n      <td>g</td>\n    </tr>\n  </tbody>\n</table>\n<p>100 rows × 23 columns</p>\n</div>"
     },
     "execution_count": 120,
     "metadata": {},
     "output_type": "execute_result"
    }
   ],
   "source": [
    "df.head(100)"
   ],
   "metadata": {
    "collapsed": false,
    "pycharm": {
     "name": "#%%\n"
    }
   }
  },
  {
   "cell_type": "code",
   "execution_count": 121,
   "outputs": [
    {
     "name": "stdout",
     "output_type": "stream",
     "text": [
      "0    4488\n",
      "1    3928\n",
      "Name: classes, dtype: int64\n",
      "x    3796\n",
      "f    3292\n",
      "k     840\n",
      "b     452\n",
      "s      32\n",
      "c       4\n",
      "Name: cap-shape, dtype: int64\n",
      "y    3268\n",
      "s    2684\n",
      "f    2460\n",
      "g       4\n",
      "Name: cap-surface, dtype: int64\n",
      "n    2320\n",
      "g    2096\n",
      "e    1500\n",
      "y    1072\n",
      "w    1040\n",
      "b     168\n",
      "p     144\n",
      "c      44\n",
      "u      16\n",
      "r      16\n",
      "Name: cap-color, dtype: int64\n",
      "f    5040\n",
      "t    3376\n",
      "Name: bruises?, dtype: int64\n",
      "n    3808\n",
      "f    2160\n",
      "y     576\n",
      "s     576\n",
      "a     400\n",
      "l     400\n",
      "p     256\n",
      "c     192\n",
      "m      48\n",
      "Name: odor, dtype: int64\n",
      "f    8200\n",
      "a     216\n",
      "Name: gill-attachment, dtype: int64\n",
      "c    6824\n",
      "w    1592\n",
      "Name: gill-spacing, dtype: int64\n",
      "b    5880\n",
      "n    2536\n",
      "Name: gill-size, dtype: int64\n",
      "b    1728\n",
      "p    1556\n",
      "w    1232\n",
      "n    1112\n",
      "h     796\n",
      "g     752\n",
      "u     492\n",
      "k     472\n",
      "e      96\n",
      "y      92\n",
      "o      64\n",
      "r      24\n",
      "Name: gill-color, dtype: int64\n",
      "t    4864\n",
      "e    3552\n",
      "Name: stalk-shape, dtype: int64\n",
      "b    3800\n",
      "?    2480\n",
      "e    1376\n",
      "c     568\n",
      "r     192\n",
      "Name: stalk-root, dtype: int64\n",
      "s    5316\n",
      "k    2384\n",
      "f     692\n",
      "y      24\n",
      "Name: stallk-surface-above-ring, dtype: int64\n",
      "s    5076\n",
      "k    2304\n",
      "f     740\n",
      "y     296\n",
      "Name:  stalk-surface-below-ring, dtype: int64\n",
      "w    4744\n",
      "p    1872\n",
      "g     576\n",
      "n     448\n",
      "b     432\n",
      "o     192\n",
      "e      96\n",
      "c      48\n",
      "y       8\n",
      "Name: stalk-color-above-ring, dtype: int64\n",
      "w    4640\n",
      "p    1872\n",
      "g     576\n",
      "n     536\n",
      "b     432\n",
      "o     192\n",
      "e      96\n",
      "c      48\n",
      "y      24\n",
      "Name: stalk-color-below-ring, dtype: int64\n",
      "p    8416\n",
      "Name: veil-type, dtype: int64\n",
      "w    8216\n",
      "o      96\n",
      "n      96\n",
      "y       8\n",
      "Name: veil-color, dtype: int64\n",
      "o    7768\n",
      "t     600\n",
      "n      48\n",
      "Name: ring-number, dtype: int64\n",
      "p    3968\n",
      "e    3056\n",
      "l    1296\n",
      "f      48\n",
      "n      48\n",
      "Name: ring-type, dtype: int64\n",
      "w    2424\n",
      "n    2096\n",
      "k    2000\n",
      "h    1632\n",
      "r      72\n",
      "u      48\n",
      "y      48\n",
      "o      48\n",
      "b      48\n",
      "Name: spore-print-color, dtype: int64\n",
      "v    4064\n",
      "y    1712\n",
      "s    1376\n",
      "a     512\n",
      "n     400\n",
      "c     352\n",
      "Name: population, dtype: int64\n",
      "d    3160\n",
      "g    2404\n",
      "p    1144\n",
      "l     856\n",
      "u     368\n",
      "m     292\n",
      "w     192\n",
      "Name: habitat, dtype: int64\n"
     ]
    }
   ],
   "source": [
    "for ind in df.columns:\n",
    "    print(df[ind].value_counts())"
   ],
   "metadata": {
    "collapsed": false,
    "pycharm": {
     "name": "#%%\n"
    }
   }
  },
  {
   "cell_type": "code",
   "execution_count": 122,
   "outputs": [
    {
     "data": {
      "text/plain": "False    7832\nTrue      584\ndtype: int64"
     },
     "execution_count": 122,
     "metadata": {},
     "output_type": "execute_result"
    }
   ],
   "source": [
    "df.duplicated(subset=None, keep=False).value_counts()"
   ],
   "metadata": {
    "collapsed": false,
    "pycharm": {
     "name": "#%%\n"
    }
   }
  },
  {
   "cell_type": "code",
   "execution_count": 123,
   "outputs": [],
   "source": [
    "df.drop_duplicates(inplace=True)"
   ],
   "metadata": {
    "collapsed": false,
    "pycharm": {
     "name": "#%%\n"
    }
   }
  },
  {
   "cell_type": "code",
   "execution_count": 124,
   "outputs": [
    {
     "data": {
      "text/plain": "(8124, 23)"
     },
     "execution_count": 124,
     "metadata": {},
     "output_type": "execute_result"
    }
   ],
   "source": [
    "df.shape"
   ],
   "metadata": {
    "collapsed": false,
    "pycharm": {
     "name": "#%%\n"
    }
   }
  },
  {
   "cell_type": "code",
   "execution_count": 125,
   "outputs": [
    {
     "data": {
      "text/plain": "False    8124\ndtype: int64"
     },
     "execution_count": 125,
     "metadata": {},
     "output_type": "execute_result"
    }
   ],
   "source": [
    "col = df.columns\n",
    "df.duplicated(col[1:23]).value_counts()"
   ],
   "metadata": {
    "collapsed": false,
    "pycharm": {
     "name": "#%%\n"
    }
   }
  },
  {
   "cell_type": "code",
   "execution_count": 126,
   "outputs": [
    {
     "data": {
      "text/plain": "[array(['b', 'c', 'f', 'k', 's', 'x'], dtype=object)]"
     },
     "execution_count": 126,
     "metadata": {},
     "output_type": "execute_result"
    }
   ],
   "source": [
    "from sklearn.preprocessing import OneHotEncoder\n",
    "cat_encoder = OneHotEncoder()\n",
    "df_1hot = cat_encoder.fit_transform(df[['cap-shape']])\n",
    "df_1hot\n",
    "cat_encoder.categories_"
   ],
   "metadata": {
    "collapsed": false,
    "pycharm": {
     "name": "#%%\n"
    }
   }
  },
  {
   "cell_type": "code",
   "execution_count": 127,
   "outputs": [
    {
     "data": {
      "text/plain": "      cap-shape1  cap-shape2  cap-shape3  cap-shape4  cap-shape5  cap-shape6\n0            0.0         0.0         0.0         0.0         0.0         1.0\n1            0.0         0.0         0.0         0.0         0.0         1.0\n2            0.0         0.0         0.0         0.0         0.0         1.0\n3            0.0         0.0         0.0         0.0         0.0         1.0\n4            0.0         0.0         0.0         0.0         0.0         1.0\n...          ...         ...         ...         ...         ...         ...\n8119         0.0         0.0         0.0         1.0         0.0         0.0\n8120         0.0         0.0         0.0         1.0         0.0         0.0\n8121         0.0         0.0         0.0         1.0         0.0         0.0\n8122         0.0         0.0         0.0         1.0         0.0         0.0\n8123         0.0         0.0         0.0         1.0         0.0         0.0\n\n[8124 rows x 6 columns]",
      "text/html": "<div>\n<style scoped>\n    .dataframe tbody tr th:only-of-type {\n        vertical-align: middle;\n    }\n\n    .dataframe tbody tr th {\n        vertical-align: top;\n    }\n\n    .dataframe thead th {\n        text-align: right;\n    }\n</style>\n<table border=\"1\" class=\"dataframe\">\n  <thead>\n    <tr style=\"text-align: right;\">\n      <th></th>\n      <th>cap-shape1</th>\n      <th>cap-shape2</th>\n      <th>cap-shape3</th>\n      <th>cap-shape4</th>\n      <th>cap-shape5</th>\n      <th>cap-shape6</th>\n    </tr>\n  </thead>\n  <tbody>\n    <tr>\n      <th>0</th>\n      <td>0.0</td>\n      <td>0.0</td>\n      <td>0.0</td>\n      <td>0.0</td>\n      <td>0.0</td>\n      <td>1.0</td>\n    </tr>\n    <tr>\n      <th>1</th>\n      <td>0.0</td>\n      <td>0.0</td>\n      <td>0.0</td>\n      <td>0.0</td>\n      <td>0.0</td>\n      <td>1.0</td>\n    </tr>\n    <tr>\n      <th>2</th>\n      <td>0.0</td>\n      <td>0.0</td>\n      <td>0.0</td>\n      <td>0.0</td>\n      <td>0.0</td>\n      <td>1.0</td>\n    </tr>\n    <tr>\n      <th>3</th>\n      <td>0.0</td>\n      <td>0.0</td>\n      <td>0.0</td>\n      <td>0.0</td>\n      <td>0.0</td>\n      <td>1.0</td>\n    </tr>\n    <tr>\n      <th>4</th>\n      <td>0.0</td>\n      <td>0.0</td>\n      <td>0.0</td>\n      <td>0.0</td>\n      <td>0.0</td>\n      <td>1.0</td>\n    </tr>\n    <tr>\n      <th>...</th>\n      <td>...</td>\n      <td>...</td>\n      <td>...</td>\n      <td>...</td>\n      <td>...</td>\n      <td>...</td>\n    </tr>\n    <tr>\n      <th>8119</th>\n      <td>0.0</td>\n      <td>0.0</td>\n      <td>0.0</td>\n      <td>1.0</td>\n      <td>0.0</td>\n      <td>0.0</td>\n    </tr>\n    <tr>\n      <th>8120</th>\n      <td>0.0</td>\n      <td>0.0</td>\n      <td>0.0</td>\n      <td>1.0</td>\n      <td>0.0</td>\n      <td>0.0</td>\n    </tr>\n    <tr>\n      <th>8121</th>\n      <td>0.0</td>\n      <td>0.0</td>\n      <td>0.0</td>\n      <td>1.0</td>\n      <td>0.0</td>\n      <td>0.0</td>\n    </tr>\n    <tr>\n      <th>8122</th>\n      <td>0.0</td>\n      <td>0.0</td>\n      <td>0.0</td>\n      <td>1.0</td>\n      <td>0.0</td>\n      <td>0.0</td>\n    </tr>\n    <tr>\n      <th>8123</th>\n      <td>0.0</td>\n      <td>0.0</td>\n      <td>0.0</td>\n      <td>1.0</td>\n      <td>0.0</td>\n      <td>0.0</td>\n    </tr>\n  </tbody>\n</table>\n<p>8124 rows × 6 columns</p>\n</div>"
     },
     "execution_count": 127,
     "metadata": {},
     "output_type": "execute_result"
    }
   ],
   "source": [
    "pd.DataFrame.sparse.from_spmatrix(df_1hot, columns = ['cap-shape1','cap-shape2','cap-shape3','cap-shape4','cap-shape5','cap-shape6'])"
   ],
   "metadata": {
    "collapsed": false,
    "pycharm": {
     "name": "#%%\n"
    }
   }
  },
  {
   "cell_type": "code",
   "execution_count": 128,
   "outputs": [
    {
     "data": {
      "text/plain": "array([[0., 0., 0., 0., 0., 1.],\n       [0., 0., 0., 0., 0., 1.],\n       [0., 0., 0., 0., 0., 1.],\n       ...,\n       [0., 0., 0., 1., 0., 0.],\n       [0., 0., 0., 1., 0., 0.],\n       [0., 0., 0., 1., 0., 0.]])"
     },
     "execution_count": 128,
     "metadata": {},
     "output_type": "execute_result"
    }
   ],
   "source": [
    "df_1hot.toarray()"
   ],
   "metadata": {
    "collapsed": false,
    "pycharm": {
     "name": "#%%\n"
    }
   }
  },
  {
   "cell_type": "code",
   "execution_count": null,
   "outputs": [],
   "source": [
    "dict = {}\n",
    "dict2 = {}\n",
    "df_new = pd.DataFrame()\n",
    "from sklearn.preprocessing import OneHotEncoder\n",
    "cat_encoder = OneHotEncoder()\n",
    "for ind in df.columns[1:23]:\n",
    "    dict[ind] = cat_encoder.fit_transform(df[[ind]])\n",
    "    cols = cat_encoder.categories_\n",
    "    colss = np.zeros(len(cols))\n",
    "    for j in range(len(cols)):\n",
    "        colss[j] = ind+cols[j]\n",
    "    dict2[ind] = pd.DataFrame.sparse.from_spmatrix(dict[ind], columns = colss)\n",
    "    df_new = pd.concat([df_new, dict2[ind]])"
   ],
   "metadata": {
    "collapsed": false,
    "pycharm": {
     "name": "#%%\n",
     "is_executing": true
    }
   }
  },
  {
   "cell_type": "code",
   "execution_count": 129,
   "outputs": [
    {
     "data": {
      "text/plain": "(0, 0)"
     },
     "execution_count": 129,
     "metadata": {},
     "output_type": "execute_result"
    },
    {
     "name": "stdout",
     "output_type": "stream",
     "text": [
      "ERROR! Session/line number was not unique in database. History logging moved to new session 14\n"
     ]
    }
   ],
   "source": [
    "df_new.shape"
   ],
   "metadata": {
    "collapsed": false,
    "pycharm": {
     "name": "#%%\n"
    }
   }
  },
  {
   "cell_type": "code",
   "execution_count": 130,
   "outputs": [],
   "source": [
    "y_new = df.classes"
   ],
   "metadata": {
    "collapsed": false,
    "pycharm": {
     "name": "#%%\n"
    }
   }
  }
 ],
 "metadata": {
  "kernelspec": {
   "display_name": "Python 3",
   "language": "python",
   "name": "python3"
  },
  "language_info": {
   "codemirror_mode": {
    "name": "ipython",
    "version": 2
   },
   "file_extension": ".py",
   "mimetype": "text/x-python",
   "name": "python",
   "nbconvert_exporter": "python",
   "pygments_lexer": "ipython2",
   "version": "2.7.6"
  }
 },
 "nbformat": 4,
 "nbformat_minor": 0
}