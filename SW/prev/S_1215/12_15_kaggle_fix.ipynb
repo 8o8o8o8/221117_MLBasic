{
 "cells": [
  {
   "cell_type": "markdown",
   "id": "4b872b50",
   "metadata": {
    "papermill": {
     "duration": 0.006288,
     "end_time": "2022-12-15T01:22:47.694402",
     "exception": false,
     "start_time": "2022-12-15T01:22:47.688114",
     "status": "completed"
    },
    "tags": []
   },
   "source": [
    "## Default of Credit Card Clients"
   ]
  },
  {
   "cell_type": "code",
   "execution_count": 1,
   "id": "e9134d0e",
   "metadata": {
    "execution": {
     "iopub.execute_input": "2022-12-15T01:22:47.707390Z",
     "iopub.status.busy": "2022-12-15T01:22:47.706373Z",
     "iopub.status.idle": "2022-12-15T01:22:48.982964Z",
     "shell.execute_reply": "2022-12-15T01:22:48.981755Z"
    },
    "papermill": {
     "duration": 1.287267,
     "end_time": "2022-12-15T01:22:48.986781",
     "exception": false,
     "start_time": "2022-12-15T01:22:47.699514",
     "status": "completed"
    },
    "tags": []
   },
   "outputs": [],
   "source": [
    "import pandas as pd\n",
    "import numpy as np\n",
    "import os\n",
    "import matplotlib.pyplot as plt\n",
    "from sklearn.model_selection import StratifiedShuffleSplit\n",
    "from sklearn.preprocessing import MinMaxScaler\n",
    "address = '/kaggle/input/default-of-credit-card-clients-dataset/UCI_Credit_Card.csv'\n",
    "df_original = pd.read_csv(address)"
   ]
  },
  {
   "cell_type": "code",
   "execution_count": 2,
   "id": "d8c9b652",
   "metadata": {
    "execution": {
     "iopub.execute_input": "2022-12-15T01:22:49.001663Z",
     "iopub.status.busy": "2022-12-15T01:22:49.001234Z",
     "iopub.status.idle": "2022-12-15T01:22:49.011062Z",
     "shell.execute_reply": "2022-12-15T01:22:49.009895Z"
    },
    "papermill": {
     "duration": 0.020904,
     "end_time": "2022-12-15T01:22:49.015553",
     "exception": false,
     "start_time": "2022-12-15T01:22:48.994649",
     "status": "completed"
    },
    "tags": []
   },
   "outputs": [
    {
     "data": {
      "text/plain": [
       "Index(['ID', 'LIMIT_BAL', 'SEX', 'EDUCATION', 'MARRIAGE', 'AGE', 'PAY_0',\n",
       "       'PAY_2', 'PAY_3', 'PAY_4', 'PAY_5', 'PAY_6', 'BILL_AMT1', 'BILL_AMT2',\n",
       "       'BILL_AMT3', 'BILL_AMT4', 'BILL_AMT5', 'BILL_AMT6', 'PAY_AMT1',\n",
       "       'PAY_AMT2', 'PAY_AMT3', 'PAY_AMT4', 'PAY_AMT5', 'PAY_AMT6',\n",
       "       'default.payment.next.month'],\n",
       "      dtype='object')"
      ]
     },
     "execution_count": 2,
     "metadata": {},
     "output_type": "execute_result"
    }
   ],
   "source": [
    "df_original.columns"
   ]
  },
  {
   "cell_type": "code",
   "execution_count": 3,
   "id": "4c9cb2fd",
   "metadata": {
    "execution": {
     "iopub.execute_input": "2022-12-15T01:22:49.028107Z",
     "iopub.status.busy": "2022-12-15T01:22:49.027646Z",
     "iopub.status.idle": "2022-12-15T01:22:49.225443Z",
     "shell.execute_reply": "2022-12-15T01:22:49.224256Z"
    },
    "papermill": {
     "duration": 0.207606,
     "end_time": "2022-12-15T01:22:49.228497",
     "exception": false,
     "start_time": "2022-12-15T01:22:49.020891",
     "status": "completed"
    },
    "tags": []
   },
   "outputs": [],
   "source": [
    "#df_original = pd.read_excel(\"input/default of credit card clients.xls\",header=1)\n",
    "df_original =df_original.rename({'PAY_0' : 'PAY_1','default.payment.next.month':'default'},axis=1)\n",
    "df = df_original.copy()\n",
    "N_labels = [column for column in df_original.columns if column !='default']\n",
    "split = StratifiedShuffleSplit(n_splits=1, test_size=0.25, random_state=42)\n",
    "for train_index , test_index in split.split(df,df.iloc[:,[2,-1]]):\n",
    "    df_train, label_train= df[N_labels].loc[train_index],df.default[train_index]\n",
    "    df_test, label_test= df[N_labels].loc[test_index], df.default[test_index]\n",
    "    "
   ]
  },
  {
   "cell_type": "code",
   "execution_count": 4,
   "id": "9e6ef630",
   "metadata": {
    "execution": {
     "iopub.execute_input": "2022-12-15T01:22:49.241347Z",
     "iopub.status.busy": "2022-12-15T01:22:49.240870Z",
     "iopub.status.idle": "2022-12-15T01:22:49.260894Z",
     "shell.execute_reply": "2022-12-15T01:22:49.259333Z"
    },
    "papermill": {
     "duration": 0.029808,
     "end_time": "2022-12-15T01:22:49.263734",
     "exception": false,
     "start_time": "2022-12-15T01:22:49.233926",
     "status": "completed"
    },
    "tags": []
   },
   "outputs": [],
   "source": [
    "from sklearn.base import TransformerMixin, BaseEstimator\n",
    "class default_transfomer(BaseEstimator,TransformerMixin):\n",
    "    def __init__(self):\n",
    "        self.columns=['ID', 'LIMIT_BAL', 'SEX', 'EDUCATION', 'MARRIAGE', 'AGE', 'PAY_1',\n",
    "       'PAY_2', 'PAY_3', 'PAY_4', 'PAY_5', 'PAY_6', 'BILL_AMT1', 'BILL_AMT2',\n",
    "       'BILL_AMT3', 'BILL_AMT4', 'BILL_AMT5', 'BILL_AMT6', 'PAY_AMT1',\n",
    "       'PAY_AMT2', 'PAY_AMT3', 'PAY_AMT4', 'PAY_AMT5', 'PAY_AMT6', \n",
    "       'USAGE_1', 'USAGE_2', 'USAGE_3', 'USAGE_4', 'USAGE_5',\n",
    "       'DIFF_0', 'DIFF_1', 'DIFF_2', 'DIFF_3',\n",
    "       'DIFF_4', 'log_LIMIT_BAL', 'log_BILL_AMT1', 'log_BILL_AMT2',\n",
    "       'log_BILL_AMT3', 'log_BILL_AMT4', 'log_BILL_AMT5', 'log_BILL_AMT6',\n",
    "       'log_PAY_AMT1', 'log_PAY_AMT2', 'log_PAY_AMT3', 'log_PAY_AMT4',\n",
    "       'log_PAY_AMT5', 'log_PAY_AMT6', 'log_USAGE_1', 'log_USAGE_2',\n",
    "       'log_USAGE_3', 'log_USAGE_4', 'log_USAGE_5', 'log_DIFF_0',\n",
    "       'log_DIFF_1', 'log_DIFF_2', 'log_DIFF_3',\n",
    "       'log_DIFF_4']\n",
    "        self.log_columns=['ID', 'LIMIT_BAL', 'SEX', 'EDUCATION', 'MARRIAGE', 'AGE', 'PAY_1',\n",
    "       'PAY_2', 'PAY_3', 'PAY_4', 'PAY_5', 'PAY_6','log_LIMIT_BAL',\n",
    "       'log_BILL_AMT1','log_BILL_AMT2', 'log_BILL_AMT3', 'log_BILL_AMT4', 'log_BILL_AMT5',\n",
    "       'log_BILL_AMT6', 'log_PAY_AMT1', 'log_PAY_AMT2', 'log_PAY_AMT3',\n",
    "       'log_PAY_AMT4', 'log_PAY_AMT5', 'log_PAY_AMT6', 'log_USAGE_1',\n",
    "       'log_USAGE_2', 'log_USAGE_3', 'log_USAGE_4', 'log_USAGE_5',\n",
    "       'log_DIFF_0', 'log_DIFF_1', 'log_DIFF_2', 'log_DIFF_3', 'log_DIFF_4']\n",
    "    \n",
    "    def fit(self):\n",
    "        pass\n",
    "    def log_pre (self,x):\n",
    "        x=x*2\n",
    "        return np.log(1+abs(x))*np.sign(x)\n",
    "    def log_pre_col (self,column):\n",
    "        return column.map(lambda x:self.log_pre(x))\n",
    "    \n",
    "    def transform(self,df,y=None):\n",
    "        #Usage\n",
    "        df_usage = pd.DataFrame()\n",
    "        df_usage['ID']=df.ID\n",
    "        BILL = [column for column in df.columns if 'BILL' in column]\n",
    "        PAY = [column for column in df.columns if 'PAY_AMT' in column]\n",
    "        for i in range(5):\n",
    "            df_usage[f\"USAGE_{i+1}\"] = df[BILL[i]]-(df[BILL[i+1]]-df[PAY[i]])\n",
    "        #difference\n",
    "        df_difference =pd.DataFrame()\n",
    "        df_difference['ID'] = df.ID\n",
    "        for i in range(5):\n",
    "            df_difference[f\"DIFF_{i}\"] = df[BILL[i+1]]-df[PAY[i]]\n",
    "        USAGE = [column for column in df_usage.columns if column !='ID']\n",
    "        DIFF = [column for column in df_difference.columns if column !='ID']\n",
    "        LIM =['LIMIT_BAL']\n",
    "        ## Logarithmic Scaling attribute \n",
    "        df = pd.concat([df,df_usage.iloc[:,1:],df_difference.iloc[:,1:]],axis=1)\n",
    "        df_log =pd.concat([df.ID,df[LIM+BILL+PAY+USAGE+DIFF].apply(self.log_pre_col,axis=0)],axis=1) #apply(function,axis=) map of those who use index/column as a index\n",
    "        rename_dict = {}\n",
    "        for i in df_log.iloc[:,1:].columns:\n",
    "            rename_dict[i] = 'log_'+i\n",
    "        df_log =df_log.rename(rename_dict,axis=1)\n",
    "        self.BILL = BILL\n",
    "        self.PAY =PAY\n",
    "        self.DIFF = DIFF\n",
    "        self.USAGE =USAGE\n",
    "        return pd.concat([df,df_log[[column for column in df_log.columns if column !='ID']]],axis=1)"
   ]
  },
  {
   "cell_type": "code",
   "execution_count": 5,
   "id": "e121a7bb",
   "metadata": {
    "execution": {
     "iopub.execute_input": "2022-12-15T01:22:49.276624Z",
     "iopub.status.busy": "2022-12-15T01:22:49.276222Z",
     "iopub.status.idle": "2022-12-15T01:22:49.281215Z",
     "shell.execute_reply": "2022-12-15T01:22:49.280090Z"
    },
    "papermill": {
     "duration": 0.014503,
     "end_time": "2022-12-15T01:22:49.283777",
     "exception": false,
     "start_time": "2022-12-15T01:22:49.269274",
     "status": "completed"
    },
    "tags": []
   },
   "outputs": [],
   "source": [
    "NAT = default_transfomer()"
   ]
  },
  {
   "cell_type": "code",
   "execution_count": 6,
   "id": "df0dde7f",
   "metadata": {
    "execution": {
     "iopub.execute_input": "2022-12-15T01:22:49.296537Z",
     "iopub.status.busy": "2022-12-15T01:22:49.295749Z",
     "iopub.status.idle": "2022-12-15T01:22:50.566567Z",
     "shell.execute_reply": "2022-12-15T01:22:50.565287Z"
    },
    "papermill": {
     "duration": 1.280197,
     "end_time": "2022-12-15T01:22:50.569367",
     "exception": false,
     "start_time": "2022-12-15T01:22:49.289170",
     "status": "completed"
    },
    "tags": []
   },
   "outputs": [],
   "source": [
    "train_data = NAT.transform(df_train)"
   ]
  },
  {
   "cell_type": "code",
   "execution_count": 7,
   "id": "06b61212",
   "metadata": {
    "execution": {
     "iopub.execute_input": "2022-12-15T01:22:50.582392Z",
     "iopub.status.busy": "2022-12-15T01:22:50.581508Z",
     "iopub.status.idle": "2022-12-15T01:22:50.617543Z",
     "shell.execute_reply": "2022-12-15T01:22:50.616261Z"
    },
    "papermill": {
     "duration": 0.045491,
     "end_time": "2022-12-15T01:22:50.620207",
     "exception": false,
     "start_time": "2022-12-15T01:22:50.574716",
     "status": "completed"
    },
    "tags": []
   },
   "outputs": [
    {
     "data": {
      "text/html": [
       "<div>\n",
       "<style scoped>\n",
       "    .dataframe tbody tr th:only-of-type {\n",
       "        vertical-align: middle;\n",
       "    }\n",
       "\n",
       "    .dataframe tbody tr th {\n",
       "        vertical-align: top;\n",
       "    }\n",
       "\n",
       "    .dataframe thead th {\n",
       "        text-align: right;\n",
       "    }\n",
       "</style>\n",
       "<table border=\"1\" class=\"dataframe\">\n",
       "  <thead>\n",
       "    <tr style=\"text-align: right;\">\n",
       "      <th></th>\n",
       "      <th>ID</th>\n",
       "      <th>LIMIT_BAL</th>\n",
       "      <th>SEX</th>\n",
       "      <th>EDUCATION</th>\n",
       "      <th>MARRIAGE</th>\n",
       "      <th>AGE</th>\n",
       "      <th>PAY_1</th>\n",
       "      <th>PAY_2</th>\n",
       "      <th>PAY_3</th>\n",
       "      <th>PAY_4</th>\n",
       "      <th>...</th>\n",
       "      <th>log_USAGE_1</th>\n",
       "      <th>log_USAGE_2</th>\n",
       "      <th>log_USAGE_3</th>\n",
       "      <th>log_USAGE_4</th>\n",
       "      <th>log_USAGE_5</th>\n",
       "      <th>log_DIFF_0</th>\n",
       "      <th>log_DIFF_1</th>\n",
       "      <th>log_DIFF_2</th>\n",
       "      <th>log_DIFF_3</th>\n",
       "      <th>log_DIFF_4</th>\n",
       "    </tr>\n",
       "  </thead>\n",
       "  <tbody>\n",
       "    <tr>\n",
       "      <th>20349</th>\n",
       "      <td>20350</td>\n",
       "      <td>80000.0</td>\n",
       "      <td>1</td>\n",
       "      <td>1</td>\n",
       "      <td>2</td>\n",
       "      <td>25</td>\n",
       "      <td>2</td>\n",
       "      <td>2</td>\n",
       "      <td>-2</td>\n",
       "      <td>-2</td>\n",
       "      <td>...</td>\n",
       "      <td>11.970357</td>\n",
       "      <td>0.000000</td>\n",
       "      <td>0.000000</td>\n",
       "      <td>0.000000</td>\n",
       "      <td>0.000000</td>\n",
       "      <td>0.000000</td>\n",
       "      <td>0.000000</td>\n",
       "      <td>0.000000</td>\n",
       "      <td>0.000000</td>\n",
       "      <td>0.000000</td>\n",
       "    </tr>\n",
       "    <tr>\n",
       "      <th>6983</th>\n",
       "      <td>6984</td>\n",
       "      <td>300000.0</td>\n",
       "      <td>2</td>\n",
       "      <td>1</td>\n",
       "      <td>1</td>\n",
       "      <td>51</td>\n",
       "      <td>-1</td>\n",
       "      <td>-1</td>\n",
       "      <td>-1</td>\n",
       "      <td>-1</td>\n",
       "      <td>...</td>\n",
       "      <td>6.440947</td>\n",
       "      <td>7.415175</td>\n",
       "      <td>6.111467</td>\n",
       "      <td>0.000000</td>\n",
       "      <td>0.000000</td>\n",
       "      <td>-1.609438</td>\n",
       "      <td>0.000000</td>\n",
       "      <td>0.000000</td>\n",
       "      <td>0.000000</td>\n",
       "      <td>0.000000</td>\n",
       "    </tr>\n",
       "    <tr>\n",
       "      <th>17548</th>\n",
       "      <td>17549</td>\n",
       "      <td>60000.0</td>\n",
       "      <td>2</td>\n",
       "      <td>2</td>\n",
       "      <td>1</td>\n",
       "      <td>48</td>\n",
       "      <td>0</td>\n",
       "      <td>0</td>\n",
       "      <td>0</td>\n",
       "      <td>0</td>\n",
       "      <td>...</td>\n",
       "      <td>8.203304</td>\n",
       "      <td>7.788626</td>\n",
       "      <td>7.983781</td>\n",
       "      <td>11.169519</td>\n",
       "      <td>7.164720</td>\n",
       "      <td>11.492325</td>\n",
       "      <td>11.508405</td>\n",
       "      <td>11.521062</td>\n",
       "      <td>10.394610</td>\n",
       "      <td>10.391791</td>\n",
       "    </tr>\n",
       "    <tr>\n",
       "      <th>954</th>\n",
       "      <td>955</td>\n",
       "      <td>110000.0</td>\n",
       "      <td>2</td>\n",
       "      <td>2</td>\n",
       "      <td>1</td>\n",
       "      <td>46</td>\n",
       "      <td>-1</td>\n",
       "      <td>-1</td>\n",
       "      <td>-1</td>\n",
       "      <td>-1</td>\n",
       "      <td>...</td>\n",
       "      <td>8.480737</td>\n",
       "      <td>8.367068</td>\n",
       "      <td>8.371705</td>\n",
       "      <td>8.142936</td>\n",
       "      <td>9.138092</td>\n",
       "      <td>0.000000</td>\n",
       "      <td>0.000000</td>\n",
       "      <td>0.000000</td>\n",
       "      <td>0.000000</td>\n",
       "      <td>12.235054</td>\n",
       "    </tr>\n",
       "    <tr>\n",
       "      <th>12866</th>\n",
       "      <td>12867</td>\n",
       "      <td>20000.0</td>\n",
       "      <td>2</td>\n",
       "      <td>2</td>\n",
       "      <td>2</td>\n",
       "      <td>25</td>\n",
       "      <td>0</td>\n",
       "      <td>0</td>\n",
       "      <td>0</td>\n",
       "      <td>0</td>\n",
       "      <td>...</td>\n",
       "      <td>8.260234</td>\n",
       "      <td>8.871084</td>\n",
       "      <td>8.826294</td>\n",
       "      <td>8.176673</td>\n",
       "      <td>9.253687</td>\n",
       "      <td>10.505752</td>\n",
       "      <td>10.378323</td>\n",
       "      <td>10.225100</td>\n",
       "      <td>10.124669</td>\n",
       "      <td>10.185240</td>\n",
       "    </tr>\n",
       "    <tr>\n",
       "      <th>...</th>\n",
       "      <td>...</td>\n",
       "      <td>...</td>\n",
       "      <td>...</td>\n",
       "      <td>...</td>\n",
       "      <td>...</td>\n",
       "      <td>...</td>\n",
       "      <td>...</td>\n",
       "      <td>...</td>\n",
       "      <td>...</td>\n",
       "      <td>...</td>\n",
       "      <td>...</td>\n",
       "      <td>...</td>\n",
       "      <td>...</td>\n",
       "      <td>...</td>\n",
       "      <td>...</td>\n",
       "      <td>...</td>\n",
       "      <td>...</td>\n",
       "      <td>...</td>\n",
       "      <td>...</td>\n",
       "      <td>...</td>\n",
       "      <td>...</td>\n",
       "    </tr>\n",
       "    <tr>\n",
       "      <th>22066</th>\n",
       "      <td>22067</td>\n",
       "      <td>160000.0</td>\n",
       "      <td>2</td>\n",
       "      <td>1</td>\n",
       "      <td>2</td>\n",
       "      <td>26</td>\n",
       "      <td>-1</td>\n",
       "      <td>-1</td>\n",
       "      <td>-1</td>\n",
       "      <td>0</td>\n",
       "      <td>...</td>\n",
       "      <td>8.579041</td>\n",
       "      <td>8.951440</td>\n",
       "      <td>8.710290</td>\n",
       "      <td>9.095939</td>\n",
       "      <td>8.579041</td>\n",
       "      <td>0.000000</td>\n",
       "      <td>0.000000</td>\n",
       "      <td>9.639196</td>\n",
       "      <td>9.040382</td>\n",
       "      <td>8.107419</td>\n",
       "    </tr>\n",
       "    <tr>\n",
       "      <th>19277</th>\n",
       "      <td>19278</td>\n",
       "      <td>80000.0</td>\n",
       "      <td>2</td>\n",
       "      <td>2</td>\n",
       "      <td>1</td>\n",
       "      <td>41</td>\n",
       "      <td>-1</td>\n",
       "      <td>-1</td>\n",
       "      <td>-1</td>\n",
       "      <td>-1</td>\n",
       "      <td>...</td>\n",
       "      <td>8.604288</td>\n",
       "      <td>8.119399</td>\n",
       "      <td>7.032624</td>\n",
       "      <td>8.819813</td>\n",
       "      <td>0.000000</td>\n",
       "      <td>0.000000</td>\n",
       "      <td>0.000000</td>\n",
       "      <td>0.000000</td>\n",
       "      <td>11.666187</td>\n",
       "      <td>11.666187</td>\n",
       "    </tr>\n",
       "    <tr>\n",
       "      <th>23975</th>\n",
       "      <td>23976</td>\n",
       "      <td>20000.0</td>\n",
       "      <td>1</td>\n",
       "      <td>1</td>\n",
       "      <td>2</td>\n",
       "      <td>25</td>\n",
       "      <td>0</td>\n",
       "      <td>0</td>\n",
       "      <td>0</td>\n",
       "      <td>0</td>\n",
       "      <td>...</td>\n",
       "      <td>10.468602</td>\n",
       "      <td>8.529319</td>\n",
       "      <td>8.689633</td>\n",
       "      <td>6.670766</td>\n",
       "      <td>8.865170</td>\n",
       "      <td>9.809012</td>\n",
       "      <td>9.650980</td>\n",
       "      <td>9.517604</td>\n",
       "      <td>9.729670</td>\n",
       "      <td>9.369820</td>\n",
       "    </tr>\n",
       "    <tr>\n",
       "      <th>12381</th>\n",
       "      <td>12382</td>\n",
       "      <td>500000.0</td>\n",
       "      <td>2</td>\n",
       "      <td>1</td>\n",
       "      <td>2</td>\n",
       "      <td>35</td>\n",
       "      <td>1</td>\n",
       "      <td>-1</td>\n",
       "      <td>-1</td>\n",
       "      <td>-1</td>\n",
       "      <td>...</td>\n",
       "      <td>0.000000</td>\n",
       "      <td>7.158514</td>\n",
       "      <td>11.309915</td>\n",
       "      <td>12.159730</td>\n",
       "      <td>8.502891</td>\n",
       "      <td>0.000000</td>\n",
       "      <td>-1.609438</td>\n",
       "      <td>-9.803833</td>\n",
       "      <td>-11.562411</td>\n",
       "      <td>0.000000</td>\n",
       "    </tr>\n",
       "    <tr>\n",
       "      <th>26237</th>\n",
       "      <td>26238</td>\n",
       "      <td>440000.0</td>\n",
       "      <td>2</td>\n",
       "      <td>2</td>\n",
       "      <td>2</td>\n",
       "      <td>28</td>\n",
       "      <td>0</td>\n",
       "      <td>0</td>\n",
       "      <td>0</td>\n",
       "      <td>0</td>\n",
       "      <td>...</td>\n",
       "      <td>10.499601</td>\n",
       "      <td>11.199789</td>\n",
       "      <td>11.247879</td>\n",
       "      <td>12.403985</td>\n",
       "      <td>10.473591</td>\n",
       "      <td>13.579313</td>\n",
       "      <td>13.523166</td>\n",
       "      <td>13.472731</td>\n",
       "      <td>13.115611</td>\n",
       "      <td>13.084468</td>\n",
       "    </tr>\n",
       "  </tbody>\n",
       "</table>\n",
       "<p>22500 rows × 57 columns</p>\n",
       "</div>"
      ],
      "text/plain": [
       "          ID  LIMIT_BAL  SEX  EDUCATION  MARRIAGE  AGE  PAY_1  PAY_2  PAY_3  \\\n",
       "20349  20350    80000.0    1          1         2   25      2      2     -2   \n",
       "6983    6984   300000.0    2          1         1   51     -1     -1     -1   \n",
       "17548  17549    60000.0    2          2         1   48      0      0      0   \n",
       "954      955   110000.0    2          2         1   46     -1     -1     -1   \n",
       "12866  12867    20000.0    2          2         2   25      0      0      0   \n",
       "...      ...        ...  ...        ...       ...  ...    ...    ...    ...   \n",
       "22066  22067   160000.0    2          1         2   26     -1     -1     -1   \n",
       "19277  19278    80000.0    2          2         1   41     -1     -1     -1   \n",
       "23975  23976    20000.0    1          1         2   25      0      0      0   \n",
       "12381  12382   500000.0    2          1         2   35      1     -1     -1   \n",
       "26237  26238   440000.0    2          2         2   28      0      0      0   \n",
       "\n",
       "       PAY_4  ...  log_USAGE_1  log_USAGE_2  log_USAGE_3  log_USAGE_4  \\\n",
       "20349     -2  ...    11.970357     0.000000     0.000000     0.000000   \n",
       "6983      -1  ...     6.440947     7.415175     6.111467     0.000000   \n",
       "17548      0  ...     8.203304     7.788626     7.983781    11.169519   \n",
       "954       -1  ...     8.480737     8.367068     8.371705     8.142936   \n",
       "12866      0  ...     8.260234     8.871084     8.826294     8.176673   \n",
       "...      ...  ...          ...          ...          ...          ...   \n",
       "22066      0  ...     8.579041     8.951440     8.710290     9.095939   \n",
       "19277     -1  ...     8.604288     8.119399     7.032624     8.819813   \n",
       "23975      0  ...    10.468602     8.529319     8.689633     6.670766   \n",
       "12381     -1  ...     0.000000     7.158514    11.309915    12.159730   \n",
       "26237      0  ...    10.499601    11.199789    11.247879    12.403985   \n",
       "\n",
       "       log_USAGE_5  log_DIFF_0  log_DIFF_1  log_DIFF_2  log_DIFF_3  log_DIFF_4  \n",
       "20349     0.000000    0.000000    0.000000    0.000000    0.000000    0.000000  \n",
       "6983      0.000000   -1.609438    0.000000    0.000000    0.000000    0.000000  \n",
       "17548     7.164720   11.492325   11.508405   11.521062   10.394610   10.391791  \n",
       "954       9.138092    0.000000    0.000000    0.000000    0.000000   12.235054  \n",
       "12866     9.253687   10.505752   10.378323   10.225100   10.124669   10.185240  \n",
       "...            ...         ...         ...         ...         ...         ...  \n",
       "22066     8.579041    0.000000    0.000000    9.639196    9.040382    8.107419  \n",
       "19277     0.000000    0.000000    0.000000    0.000000   11.666187   11.666187  \n",
       "23975     8.865170    9.809012    9.650980    9.517604    9.729670    9.369820  \n",
       "12381     8.502891    0.000000   -1.609438   -9.803833  -11.562411    0.000000  \n",
       "26237    10.473591   13.579313   13.523166   13.472731   13.115611   13.084468  \n",
       "\n",
       "[22500 rows x 57 columns]"
      ]
     },
     "execution_count": 7,
     "metadata": {},
     "output_type": "execute_result"
    }
   ],
   "source": [
    "train_data"
   ]
  },
  {
   "cell_type": "code",
   "execution_count": 8,
   "id": "67f21798",
   "metadata": {
    "execution": {
     "iopub.execute_input": "2022-12-15T01:22:50.633980Z",
     "iopub.status.busy": "2022-12-15T01:22:50.633500Z",
     "iopub.status.idle": "2022-12-15T01:22:50.640620Z",
     "shell.execute_reply": "2022-12-15T01:22:50.639771Z"
    },
    "papermill": {
     "duration": 0.017293,
     "end_time": "2022-12-15T01:22:50.643504",
     "exception": false,
     "start_time": "2022-12-15T01:22:50.626211",
     "status": "completed"
    },
    "tags": []
   },
   "outputs": [
    {
     "data": {
      "text/plain": [
       "Index(['ID', 'LIMIT_BAL', 'SEX', 'EDUCATION', 'MARRIAGE', 'AGE', 'PAY_1',\n",
       "       'PAY_2', 'PAY_3', 'PAY_4', 'PAY_5', 'PAY_6', 'BILL_AMT1', 'BILL_AMT2',\n",
       "       'BILL_AMT3', 'BILL_AMT4', 'BILL_AMT5', 'BILL_AMT6', 'PAY_AMT1',\n",
       "       'PAY_AMT2', 'PAY_AMT3', 'PAY_AMT4', 'PAY_AMT5', 'PAY_AMT6', 'USAGE_1',\n",
       "       'USAGE_2', 'USAGE_3', 'USAGE_4', 'USAGE_5', 'DIFF_0', 'DIFF_1',\n",
       "       'DIFF_2', 'DIFF_3', 'DIFF_4', 'log_LIMIT_BAL', 'log_BILL_AMT1',\n",
       "       'log_BILL_AMT2', 'log_BILL_AMT3', 'log_BILL_AMT4', 'log_BILL_AMT5',\n",
       "       'log_BILL_AMT6', 'log_PAY_AMT1', 'log_PAY_AMT2', 'log_PAY_AMT3',\n",
       "       'log_PAY_AMT4', 'log_PAY_AMT5', 'log_PAY_AMT6', 'log_USAGE_1',\n",
       "       'log_USAGE_2', 'log_USAGE_3', 'log_USAGE_4', 'log_USAGE_5',\n",
       "       'log_DIFF_0', 'log_DIFF_1', 'log_DIFF_2', 'log_DIFF_3', 'log_DIFF_4'],\n",
       "      dtype='object')"
      ]
     },
     "execution_count": 8,
     "metadata": {},
     "output_type": "execute_result"
    }
   ],
   "source": [
    "train_data.columns"
   ]
  },
  {
   "cell_type": "code",
   "execution_count": 9,
   "id": "074326b9",
   "metadata": {
    "execution": {
     "iopub.execute_input": "2022-12-15T01:22:50.659522Z",
     "iopub.status.busy": "2022-12-15T01:22:50.659104Z",
     "iopub.status.idle": "2022-12-15T01:22:50.664172Z",
     "shell.execute_reply": "2022-12-15T01:22:50.662985Z"
    },
    "papermill": {
     "duration": 0.015381,
     "end_time": "2022-12-15T01:22:50.666674",
     "exception": false,
     "start_time": "2022-12-15T01:22:50.651293",
     "status": "completed"
    },
    "tags": []
   },
   "outputs": [],
   "source": [
    "#print(pd.concat([train_data.SEX,label_train],axis=1))"
   ]
  },
  {
   "cell_type": "code",
   "execution_count": 10,
   "id": "c0d12078",
   "metadata": {
    "execution": {
     "iopub.execute_input": "2022-12-15T01:22:50.680772Z",
     "iopub.status.busy": "2022-12-15T01:22:50.680358Z",
     "iopub.status.idle": "2022-12-15T01:22:50.844503Z",
     "shell.execute_reply": "2022-12-15T01:22:50.843554Z"
    },
    "papermill": {
     "duration": 0.174419,
     "end_time": "2022-12-15T01:22:50.847268",
     "exception": false,
     "start_time": "2022-12-15T01:22:50.672849",
     "status": "completed"
    },
    "tags": []
   },
   "outputs": [],
   "source": [
    "scaler = MinMaxScaler()\n",
    "ATs = [column for column in NAT.log_columns if column !='ID' if column !='LIMIT_BAL']\n",
    "scaler.fit(train_data[ATs])\n",
    "train_data_scaled = scaler.transform(train_data[ATs])\n",
    "for train_index , test_index in split.split(train_data_scaled,pd.concat([train_data.SEX,label_train],axis=1)):\n",
    "    X_train, y_train= train_data_scaled[train_index],label_train.iloc[train_index]\n",
    "    X_test, y_test = train_data_scaled[test_index], label_train.iloc[test_index]"
   ]
  },
  {
   "cell_type": "code",
   "execution_count": 11,
   "id": "704c46b9",
   "metadata": {
    "execution": {
     "iopub.execute_input": "2022-12-15T01:22:50.861830Z",
     "iopub.status.busy": "2022-12-15T01:22:50.860776Z",
     "iopub.status.idle": "2022-12-15T01:22:50.933886Z",
     "shell.execute_reply": "2022-12-15T01:22:50.932613Z"
    },
    "papermill": {
     "duration": 0.083689,
     "end_time": "2022-12-15T01:22:50.937105",
     "exception": false,
     "start_time": "2022-12-15T01:22:50.853416",
     "status": "completed"
    },
    "tags": []
   },
   "outputs": [],
   "source": [
    "from sklearn.linear_model import LogisticRegressionCV\n",
    "from sklearn.linear_model import LogisticRegression"
   ]
  },
  {
   "cell_type": "code",
   "execution_count": 12,
   "id": "08f5a454",
   "metadata": {
    "execution": {
     "iopub.execute_input": "2022-12-15T01:22:50.951776Z",
     "iopub.status.busy": "2022-12-15T01:22:50.951384Z",
     "iopub.status.idle": "2022-12-15T01:22:51.330453Z",
     "shell.execute_reply": "2022-12-15T01:22:51.329244Z"
    },
    "papermill": {
     "duration": 0.39168,
     "end_time": "2022-12-15T01:22:51.335157",
     "exception": false,
     "start_time": "2022-12-15T01:22:50.943477",
     "status": "completed"
    },
    "tags": []
   },
   "outputs": [
    {
     "name": "stdout",
     "output_type": "stream",
     "text": [
      "0.8064\n",
      "0.8069333333333333\n"
     ]
    }
   ],
   "source": [
    "clf = LogisticRegression(\n",
    "                        max_iter=100000,random_state=42)\n",
    "clf.fit(X_train,y_train)\n",
    "print((clf.predict(X_train)==y_train).mean())\n",
    "print((clf.predict(X_test)==y_test).mean())"
   ]
  },
  {
   "cell_type": "code",
   "execution_count": 13,
   "id": "379554cb",
   "metadata": {
    "execution": {
     "iopub.execute_input": "2022-12-15T01:22:51.369407Z",
     "iopub.status.busy": "2022-12-15T01:22:51.368665Z",
     "iopub.status.idle": "2022-12-15T01:22:58.555120Z",
     "shell.execute_reply": "2022-12-15T01:22:58.553388Z"
    },
    "papermill": {
     "duration": 7.210255,
     "end_time": "2022-12-15T01:22:58.560839",
     "exception": false,
     "start_time": "2022-12-15T01:22:51.350584",
     "status": "completed"
    },
    "tags": []
   },
   "outputs": [
    {
     "name": "stdout",
     "output_type": "stream",
     "text": [
      "l1\n",
      "error for l1\n",
      "l2\n",
      "0.8079407407407407\n",
      "0.8064\n",
      "elasticnet\n",
      "error for elasticnet\n",
      "none\n",
      "error for none\n"
     ]
    }
   ],
   "source": [
    "for penalty in ['l1', 'l2', 'elasticnet', 'none']:\n",
    "    try:\n",
    "        print(penalty)\n",
    "        clf = LogisticRegressionCV(\n",
    "                                Cs=20,\n",
    "                                cv=5,\n",
    "                                penalty=penalty,\n",
    "                                max_iter=800,\n",
    "                                random_state=42)\n",
    "        clf.fit(X_train,y_train)\n",
    "        print((clf.predict(X_train)==y_train).mean())\n",
    "        print((clf.predict(X_test)==y_test).mean())\n",
    "    except:\n",
    "        print(f'error for {penalty}')"
   ]
  },
  {
   "cell_type": "code",
   "execution_count": 14,
   "id": "ea3445b9",
   "metadata": {
    "execution": {
     "iopub.execute_input": "2022-12-15T01:22:58.597034Z",
     "iopub.status.busy": "2022-12-15T01:22:58.596302Z",
     "iopub.status.idle": "2022-12-15T01:23:49.153325Z",
     "shell.execute_reply": "2022-12-15T01:23:49.151524Z"
    },
    "papermill": {
     "duration": 50.581323,
     "end_time": "2022-12-15T01:23:49.159196",
     "exception": false,
     "start_time": "2022-12-15T01:22:58.577873",
     "status": "completed"
    },
    "tags": []
   },
   "outputs": [
    {
     "name": "stdout",
     "output_type": "stream",
     "text": [
      "sag\n",
      "0.8083555555555556\n",
      "0.8064\n",
      "newton-cholesky\n",
      "error for newton-cholesky\n",
      "liblinear\n",
      "0.8078814814814815\n",
      "0.8071111111111111\n",
      "lbfgs\n",
      "0.8079407407407407\n",
      "0.8064\n",
      "saga\n",
      "0.8082962962962963\n",
      "0.8064\n",
      "newton-cg\n",
      "0.8082370370370371\n",
      "0.8064\n"
     ]
    }
   ],
   "source": [
    "for solver in {'lbfgs', 'liblinear', 'newton-cg', 'newton-cholesky', 'sag', 'saga'}:\n",
    "    try:\n",
    "        print(solver)\n",
    "        clf = LogisticRegressionCV(\n",
    "                                Cs=20,\n",
    "                                cv=5,\n",
    "                                solver=solver,\n",
    "                                max_iter=800,\n",
    "                                random_state=42)\n",
    "        clf.fit(X_train,y_train)\n",
    "        print((clf.predict(X_train)==y_train).mean())\n",
    "        print((clf.predict(X_test)==y_test).mean())\n",
    "    except:\n",
    "\n",
    "        print(f\"error for {solver}\")"
   ]
  },
  {
   "cell_type": "code",
   "execution_count": null,
   "id": "50fdb782",
   "metadata": {
    "papermill": {
     "duration": 0.017157,
     "end_time": "2022-12-15T01:23:49.195528",
     "exception": false,
     "start_time": "2022-12-15T01:23:49.178371",
     "status": "completed"
    },
    "tags": []
   },
   "outputs": [],
   "source": []
  },
  {
   "cell_type": "code",
   "execution_count": 15,
   "id": "ec51a795",
   "metadata": {
    "execution": {
     "iopub.execute_input": "2022-12-15T01:23:49.234566Z",
     "iopub.status.busy": "2022-12-15T01:23:49.233806Z",
     "iopub.status.idle": "2022-12-15T01:23:49.420233Z",
     "shell.execute_reply": "2022-12-15T01:23:49.419009Z"
    },
    "papermill": {
     "duration": 0.210055,
     "end_time": "2022-12-15T01:23:49.423413",
     "exception": false,
     "start_time": "2022-12-15T01:23:49.213358",
     "status": "completed"
    },
    "tags": []
   },
   "outputs": [],
   "source": [
    "scaler = MinMaxScaler()\n",
    "ATs = [column for column in NAT.columns if column !='ID' ]\n",
    "scaler.fit(train_data[ATs])\n",
    "train_data_scaled = scaler.transform(train_data[ATs])\n",
    "for train_index , test_index in split.split(train_data_scaled,pd.concat([train_data.SEX,label_train],axis=1)):\n",
    "    X_train, y_train= train_data_scaled[train_index],label_train.iloc[train_index]\n",
    "    X_test, y_test = train_data_scaled[test_index], label_train.iloc[test_index]"
   ]
  },
  {
   "cell_type": "code",
   "execution_count": 16,
   "id": "d39f36d6",
   "metadata": {
    "execution": {
     "iopub.execute_input": "2022-12-15T01:23:49.440096Z",
     "iopub.status.busy": "2022-12-15T01:23:49.439426Z",
     "iopub.status.idle": "2022-12-15T01:23:50.224087Z",
     "shell.execute_reply": "2022-12-15T01:23:50.222382Z"
    },
    "papermill": {
     "duration": 0.800813,
     "end_time": "2022-12-15T01:23:50.231519",
     "exception": false,
     "start_time": "2022-12-15T01:23:49.430706",
     "status": "completed"
    },
    "tags": []
   },
   "outputs": [
    {
     "name": "stdout",
     "output_type": "stream",
     "text": [
      "0.8086518518518518\n",
      "0.8092444444444444\n"
     ]
    }
   ],
   "source": [
    "\n",
    "clf = LogisticRegression(\n",
    "                        max_iter=100000,random_state=42)\n",
    "clf.fit(X_train,y_train)\n",
    "print((clf.predict(X_train)==y_train).mean())\n",
    "print((clf.predict(X_test)==y_test).mean())"
   ]
  },
  {
   "cell_type": "code",
   "execution_count": 17,
   "id": "3cff4818",
   "metadata": {
    "execution": {
     "iopub.execute_input": "2022-12-15T01:23:50.272367Z",
     "iopub.status.busy": "2022-12-15T01:23:50.271606Z",
     "iopub.status.idle": "2022-12-15T01:24:15.183233Z",
     "shell.execute_reply": "2022-12-15T01:24:15.181623Z"
    },
    "papermill": {
     "duration": 24.938467,
     "end_time": "2022-12-15T01:24:15.189371",
     "exception": false,
     "start_time": "2022-12-15T01:23:50.250904",
     "status": "completed"
    },
    "tags": []
   },
   "outputs": [
    {
     "name": "stdout",
     "output_type": "stream",
     "text": [
      "l1\n",
      "error for l1\n",
      "l2\n",
      "0.809362962962963\n",
      "0.8090666666666667\n",
      "elasticnet\n",
      "error for elasticnet\n",
      "none\n",
      "error for none\n"
     ]
    }
   ],
   "source": [
    "for penalty in ['l1', 'l2', 'elasticnet', 'none']:\n",
    "    try:\n",
    "        print(penalty)\n",
    "        clf = LogisticRegressionCV(\n",
    "                                Cs=20,\n",
    "                                cv=5,\n",
    "                                penalty=penalty,\n",
    "                                max_iter=800,\n",
    "                                random_state=42)\n",
    "        clf.fit(X_train,y_train)\n",
    "        print((clf.predict(X_train)==y_train).mean())\n",
    "        print((clf.predict(X_test)==y_test).mean())\n",
    "    except:\n",
    "        print(f'error for {penalty}')"
   ]
  },
  {
   "cell_type": "code",
   "execution_count": 18,
   "id": "65f2cc38",
   "metadata": {
    "execution": {
     "iopub.execute_input": "2022-12-15T01:24:15.231308Z",
     "iopub.status.busy": "2022-12-15T01:24:15.230469Z",
     "iopub.status.idle": "2022-12-15T01:31:14.340110Z",
     "shell.execute_reply": "2022-12-15T01:31:14.338431Z"
    },
    "papermill": {
     "duration": 419.136348,
     "end_time": "2022-12-15T01:31:14.345434",
     "exception": false,
     "start_time": "2022-12-15T01:24:15.209086",
     "status": "completed"
    },
    "tags": []
   },
   "outputs": [
    {
     "name": "stdout",
     "output_type": "stream",
     "text": [
      "sag\n",
      "0.8094814814814815\n",
      "0.8092444444444444\n",
      "newton-cholesky\n",
      "error for newton-cholesky\n",
      "liblinear\n",
      "0.809362962962963\n",
      "0.8090666666666667\n",
      "lbfgs\n",
      "0.809362962962963\n",
      "0.8090666666666667\n",
      "saga\n",
      "0.8094814814814815\n",
      "0.8092444444444444\n",
      "newton-cg\n",
      "0.8094814814814815\n",
      "0.8092444444444444\n"
     ]
    }
   ],
   "source": [
    "for solver in {'lbfgs', 'liblinear', 'newton-cg', 'newton-cholesky', 'sag', 'saga'}:\n",
    "    try:\n",
    "        print(solver)\n",
    "        clf = LogisticRegressionCV(\n",
    "                                Cs=20,\n",
    "                                cv=5,\n",
    "                                solver=solver,\n",
    "                                max_iter=800,\n",
    "                                random_state=42)\n",
    "        clf.fit(X_train,y_train)\n",
    "        print((clf.predict(X_train)==y_train).mean())\n",
    "        print((clf.predict(X_test)==y_test).mean())\n",
    "    except:\n",
    "\n",
    "        print(f\"error for {solver}\")"
   ]
  },
  {
   "cell_type": "code",
   "execution_count": null,
   "id": "f987c3bd",
   "metadata": {
    "papermill": {
     "duration": 0.018893,
     "end_time": "2022-12-15T01:31:14.384193",
     "exception": false,
     "start_time": "2022-12-15T01:31:14.365300",
     "status": "completed"
    },
    "tags": []
   },
   "outputs": [],
   "source": []
  },
  {
   "cell_type": "code",
   "execution_count": null,
   "id": "db77a857",
   "metadata": {
    "papermill": {
     "duration": 0.019035,
     "end_time": "2022-12-15T01:31:14.423920",
     "exception": false,
     "start_time": "2022-12-15T01:31:14.404885",
     "status": "completed"
    },
    "tags": []
   },
   "outputs": [],
   "source": []
  }
 ],
 "metadata": {
  "kernelspec": {
   "display_name": "Python 3",
   "language": "python",
   "name": "python3"
  },
  "language_info": {
   "codemirror_mode": {
    "name": "ipython",
    "version": 3
   },
   "file_extension": ".py",
   "mimetype": "text/x-python",
   "name": "python",
   "nbconvert_exporter": "python",
   "pygments_lexer": "ipython3",
   "version": "3.7.12"
  },
  "papermill": {
   "default_parameters": {},
   "duration": 516.237,
   "end_time": "2022-12-15T01:31:15.272736",
   "environment_variables": {},
   "exception": null,
   "input_path": "__notebook__.ipynb",
   "output_path": "__notebook__.ipynb",
   "parameters": {},
   "start_time": "2022-12-15T01:22:39.035736",
   "version": "2.3.4"
  }
 },
 "nbformat": 4,
 "nbformat_minor": 5
}
